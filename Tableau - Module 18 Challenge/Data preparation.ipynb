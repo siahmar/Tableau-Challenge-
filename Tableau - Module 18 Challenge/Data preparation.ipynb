{
 "cells": [
  {
   "cell_type": "markdown",
   "metadata": {},
   "source": [
    "# Data Preparation"
   ]
  },
  {
   "cell_type": "code",
   "execution_count": 1,
   "metadata": {},
   "outputs": [],
   "source": [
    "# Import dependencies\n",
    "    # The glob module in Python finds all the file paths that match a specified pattern. It’s especially useful for working with multiple files at once.\n",
    "import pandas as pd\n",
    "import glob"
   ]
  },
  {
   "cell_type": "code",
   "execution_count": 2,
   "metadata": {},
   "outputs": [],
   "source": [
    "# Define CSV path\n",
    "    #Relative path did not work so had to provide full path\n",
    "path = '/Users/siawashahmar/Desktop/Data Analytics Bootcamp/Tableau - Module 18 Challenge/Data'\n",
    "all_files = glob.glob(path + \"/*.csv\")\n"
   ]
  },
  {
   "cell_type": "code",
   "execution_count": 3,
   "metadata": {},
   "outputs": [
    {
     "name": "stdout",
     "output_type": "stream",
     "text": [
      "['/Users/siawashahmar/Desktop/Data Analytics Bootcamp/Tableau - Module 18 Challenge/Data/JC-202404-citibike-tripdata.csv', '/Users/siawashahmar/Desktop/Data Analytics Bootcamp/Tableau - Module 18 Challenge/Data/JC-202406-citibike-tripdata.csv', '/Users/siawashahmar/Desktop/Data Analytics Bootcamp/Tableau - Module 18 Challenge/Data/JC-202408-citibike-tripdata.csv', '/Users/siawashahmar/Desktop/Data Analytics Bootcamp/Tableau - Module 18 Challenge/Data/JC-202402-citibike-tripdata.csv', '/Users/siawashahmar/Desktop/Data Analytics Bootcamp/Tableau - Module 18 Challenge/Data/JC-202407-citibike-tripdata.csv', '/Users/siawashahmar/Desktop/Data Analytics Bootcamp/Tableau - Module 18 Challenge/Data/JC-202401-citibike-tripdata.csv', '/Users/siawashahmar/Desktop/Data Analytics Bootcamp/Tableau - Module 18 Challenge/Data/JC-202409-citibike-tripdata.csv', '/Users/siawashahmar/Desktop/Data Analytics Bootcamp/Tableau - Module 18 Challenge/Data/JC-202403-citibike-tripdata.csv']\n"
     ]
    }
   ],
   "source": [
    "print(all_files)"
   ]
  },
  {
   "cell_type": "code",
   "execution_count": 4,
   "metadata": {},
   "outputs": [],
   "source": [
    "#Read csv files and store in a list of dataframes\n",
    "df = [pd.read_csv(file) for file in all_files]\n",
    "\n",
    "#Combine all dataframes into one\n",
    "combined_df = pd.concat(df, ignore_index=True)\n",
    "\n",
    "#Save combined dataframe to new CSV file\n",
    "combined_df.to_csv('combined_citiBike_data.csv', index=False)"
   ]
  }
 ],
 "metadata": {
  "kernelspec": {
   "display_name": "Python 3",
   "language": "python",
   "name": "python3"
  },
  "language_info": {
   "codemirror_mode": {
    "name": "ipython",
    "version": 3
   },
   "file_extension": ".py",
   "mimetype": "text/x-python",
   "name": "python",
   "nbconvert_exporter": "python",
   "pygments_lexer": "ipython3",
   "version": "3.12.4"
  }
 },
 "nbformat": 4,
 "nbformat_minor": 2
}
